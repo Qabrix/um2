{
 "cells": [
  {
   "cell_type": "markdown",
   "metadata": {},
   "source": [
    "# UM LISTA 2\n",
    "## 250346 Jakub Balicki\n",
    "\n",
    "Pliki źródłowe: https://github.com/Qabrix/um2\n",
    "\n",
    "Rozwiązanie przedstawione jest dla problemu cvrp.\n",
    "\n",
    "Kazdy osobnik jest reprezentowany przez gen (tablice ściezki np: `[2 4 1 5 3]`) oraz tablice powrotów, która sygnalizuje, aby z danego miasta wrócic do magazynu (np. `[False False False True False`]).\n",
    "\n",
    "Fitness score obliczany jest w następujący sposób:\n",
    "\n",
    "```python\n",
    "        for osobnik in populacja:\n",
    "            wolne_miejsce = max_ladownosc\n",
    "\n",
    "            calkowity_koszt += dystanst_z_magazynu_do_pierwszego_miasta\n",
    "            wolne_miejsce -= ilosc_w_pierwszym_miescie\n",
    "\n",
    "            for krok in ilosc_miast:\n",
    "                i_localization = self.genes[i_subject, step]\n",
    "                i_next_localization = self.genes[i_subject, step + 1]\n",
    "                demand = self.demands[i_next_localization]\n",
    "\n",
    "                if wolne_miejsce - ilosc_w_aktualnym_miescie >= 0 and not tablica_powrotu[krok]:\n",
    "                    calkowity_koszt += dystanst_z_aktualnego_miasta_do_nastepnego_miasta\n",
    "                else:\n",
    "                    wolne_miejsce = max_ladownosc\n",
    "                    calkowity_koszt += dystanst_z_aktualnego_miasta_do_magazynu\n",
    "                    calkowity_koszt += dystanst_z_magazynu_do_nastepnego_miasta\n",
    "\n",
    "                wolne_miejsce -= ilosc_w_aktualnym_miescie\n",
    "\n",
    "            calkowity_koszt += dystanst_z_ostatniego_miasta_do_magazynu\n",
    "\n",
    "```"
   ]
  },
  {
   "cell_type": "code",
   "execution_count": 2,
   "metadata": {},
   "outputs": [
    {
     "ename": "ModuleNotFoundError",
     "evalue": "No module named 'seaborn'",
     "output_type": "error",
     "traceback": [
      "\u001b[0;31m---------------------------------------------------------------------------\u001b[0m",
      "\u001b[0;31mModuleNotFoundError\u001b[0m                       Traceback (most recent call last)",
      "\u001b[0;32m/var/folders/q4/xb7b1_ps2fq77twnbh5403_c0000gn/T/ipykernel_92411/558000651.py\u001b[0m in \u001b[0;36m<module>\u001b[0;34m\u001b[0m\n\u001b[0;32m----> 1\u001b[0;31m \u001b[0;32mimport\u001b[0m \u001b[0mseaborn\u001b[0m \u001b[0;32mas\u001b[0m \u001b[0msns\u001b[0m\u001b[0;34m\u001b[0m\u001b[0;34m\u001b[0m\u001b[0m\n\u001b[0m\u001b[1;32m      2\u001b[0m \u001b[0;34m\u001b[0m\u001b[0m\n\u001b[1;32m      3\u001b[0m \u001b[0;32mfrom\u001b[0m \u001b[0mroutes\u001b[0m \u001b[0;32mimport\u001b[0m \u001b[0mROUTES_PATH\u001b[0m\u001b[0;34m\u001b[0m\u001b[0;34m\u001b[0m\u001b[0m\n\u001b[1;32m      4\u001b[0m \u001b[0;32mfrom\u001b[0m \u001b[0msrc\u001b[0m\u001b[0;34m.\u001b[0m\u001b[0mloader\u001b[0m \u001b[0;32mimport\u001b[0m \u001b[0mLoader\u001b[0m\u001b[0;34m\u001b[0m\u001b[0;34m\u001b[0m\u001b[0m\n\u001b[1;32m      5\u001b[0m \u001b[0;32mfrom\u001b[0m \u001b[0msrc\u001b[0m\u001b[0;34m.\u001b[0m\u001b[0msolutions\u001b[0m\u001b[0;34m.\u001b[0m\u001b[0mgenethic\u001b[0m \u001b[0;32mimport\u001b[0m \u001b[0mcalc_solution\u001b[0m \u001b[0;32mas\u001b[0m \u001b[0mgenethic_solution\u001b[0m\u001b[0;34m\u001b[0m\u001b[0;34m\u001b[0m\u001b[0m\n",
      "\u001b[0;31mModuleNotFoundError\u001b[0m: No module named 'seaborn'"
     ]
    }
   ],
   "source": [
    "import seaborn as sns\n",
    "\n",
    "from routes import ROUTES_PATH\n",
    "from src.loader import Loader\n",
    "from src.solutions.genethic import calc_solution as genethic_solution\n",
    "from src.solutions.greedy import calc_solution as greedy_solution\n",
    "from src.solutions.random import calc_solution as random_solution"
   ]
  },
  {
   "cell_type": "markdown",
   "metadata": {},
   "source": [
    "### Sprawdzenie rozwiązania losowego dla przypadku testowego"
   ]
  },
  {
   "cell_type": "code",
   "execution_count": 4,
   "metadata": {},
   "outputs": [
    {
     "name": "stdout",
     "output_type": "stream",
     "text": [
      "fit_score: 340.30242919921875\n",
      "ściezka: [2 4 1 5 3]\n"
     ]
    }
   ],
   "source": [
    "Loader.from_path(ROUTES_PATH / 'simple.vrp')\n",
    "\n",
    "cvrp = random_solution()\n",
    "print(f\"fit_score: {cvrp.best_fit_score()}\")\n",
    "print(f\"ściezka: {cvrp.genes[0]}\")"
   ]
  },
  {
   "cell_type": "markdown",
   "metadata": {},
   "source": [
    "### Sprawdzenie rozwiązania zachłannego dla przypadku testowego"
   ]
  },
  {
   "cell_type": "code",
   "execution_count": 6,
   "metadata": {},
   "outputs": [
    {
     "name": "stdout",
     "output_type": "stream",
     "text": [
      "fit_score: 269.0461730957031\n",
      "ściezka: [3 1 4 5 2]\n"
     ]
    }
   ],
   "source": [
    "Loader.from_path(ROUTES_PATH / 'simple.vrp')\n",
    "\n",
    "cvrp = greedy_solution()\n",
    "print(f\"fit_score: {cvrp.best_fit_score()}\")\n",
    "print(f\"ściezka: {cvrp.genes[0]}\")"
   ]
  },
  {
   "cell_type": "markdown",
   "metadata": {},
   "source": [
    "### Sprawdzenie rozwiązania GA dla przypadku testowego"
   ]
  },
  {
   "cell_type": "code",
   "execution_count": 1,
   "metadata": {},
   "outputs": [
    {
     "ename": "NameError",
     "evalue": "name 'Loader' is not defined",
     "output_type": "error",
     "traceback": [
      "\u001b[0;31m---------------------------------------------------------------------------\u001b[0m",
      "\u001b[0;31mNameError\u001b[0m                                 Traceback (most recent call last)",
      "\u001b[0;32m/var/folders/q4/xb7b1_ps2fq77twnbh5403_c0000gn/T/ipykernel_92411/3780620625.py\u001b[0m in \u001b[0;36m<module>\u001b[0;34m\u001b[0m\n\u001b[0;32m----> 1\u001b[0;31m \u001b[0mLoader\u001b[0m\u001b[0;34m.\u001b[0m\u001b[0mfrom_path\u001b[0m\u001b[0;34m(\u001b[0m\u001b[0mROUTES_PATH\u001b[0m \u001b[0;34m/\u001b[0m \u001b[0;34m'simple.vrp'\u001b[0m\u001b[0;34m)\u001b[0m\u001b[0;34m\u001b[0m\u001b[0;34m\u001b[0m\u001b[0m\n\u001b[0m\u001b[1;32m      2\u001b[0m \u001b[0;34m\u001b[0m\u001b[0m\n\u001b[1;32m      3\u001b[0m \u001b[0mcvrp\u001b[0m\u001b[0;34m,\u001b[0m \u001b[0mscores_df\u001b[0m \u001b[0;34m=\u001b[0m \u001b[0mgenethic_solution\u001b[0m\u001b[0;34m(\u001b[0m\u001b[0mn_population\u001b[0m\u001b[0;34m=\u001b[0m\u001b[0;36m10\u001b[0m\u001b[0;34m,\u001b[0m \u001b[0mn_iters\u001b[0m\u001b[0;34m=\u001b[0m\u001b[0;36m100\u001b[0m\u001b[0;34m,\u001b[0m \u001b[0mn_contestants\u001b[0m\u001b[0;34m=\u001b[0m\u001b[0;36m5\u001b[0m\u001b[0;34m,\u001b[0m \u001b[0mcross_prob\u001b[0m\u001b[0;34m=\u001b[0m\u001b[0;36m0.5\u001b[0m\u001b[0;34m,\u001b[0m \u001b[0mmut_prob\u001b[0m\u001b[0;34m=\u001b[0m\u001b[0;36m0.1\u001b[0m\u001b[0;34m)\u001b[0m\u001b[0;34m\u001b[0m\u001b[0;34m\u001b[0m\u001b[0m\n\u001b[1;32m      4\u001b[0m \u001b[0mbest_route\u001b[0m \u001b[0;34m=\u001b[0m \u001b[0mcvrp\u001b[0m\u001b[0;34m.\u001b[0m\u001b[0mbest_fit_score\u001b[0m\u001b[0;34m(\u001b[0m\u001b[0;34m)\u001b[0m\u001b[0;34m\u001b[0m\u001b[0;34m\u001b[0m\u001b[0m\n\u001b[1;32m      5\u001b[0m \u001b[0mprint\u001b[0m\u001b[0;34m(\u001b[0m\u001b[0;34mf\"fit_score: {best_route[1]}\"\u001b[0m\u001b[0;34m)\u001b[0m\u001b[0;34m\u001b[0m\u001b[0;34m\u001b[0m\u001b[0m\n",
      "\u001b[0;31mNameError\u001b[0m: name 'Loader' is not defined"
     ]
    }
   ],
   "source": [
    "Loader.from_path(ROUTES_PATH / 'simple.vrp')\n",
    "\n",
    "cvrp, scores_df = genethic_solution(n_population=10, n_iters=100, n_contestants=5, cross_prob=0.5, mut_prob=0.1)\n",
    "best_route = cvrp.best_fit_score()\n",
    "print(f\"fit_score: {best_route[1]}\")\n",
    "print(f\"ściezka: {best_route[0]}\")\n",
    "print(f\"tablica dodatkowych powrotow: {best_route[2]}\")\n",
    "\n",
    "sns.lineplot(data=scores_df, x=\"i\", y=\"fit_score\")"
   ]
  },
  {
   "cell_type": "code",
   "execution_count": null,
   "metadata": {},
   "outputs": [],
   "source": []
  }
 ],
 "metadata": {
  "interpreter": {
   "hash": "97854104d6735f78be8e199af792f103494b5537727c450e83b2be3394a4f1e9"
  },
  "kernelspec": {
   "display_name": "Python 3 (ipykernel)",
   "language": "python",
   "name": "python3"
  },
  "language_info": {
   "codemirror_mode": {
    "name": "ipython",
    "version": 3
   },
   "file_extension": ".py",
   "mimetype": "text/x-python",
   "name": "python",
   "nbconvert_exporter": "python",
   "pygments_lexer": "ipython3",
   "version": "3.9.6"
  }
 },
 "nbformat": 4,
 "nbformat_minor": 2
}
